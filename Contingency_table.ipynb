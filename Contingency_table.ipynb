{
 "cells": [
  {
   "cell_type": "code",
   "execution_count": 1,
   "metadata": {},
   "outputs": [],
   "source": [
    "import pandas as pd\n",
    "import numpy as np\n",
    "import matplotlib.pyplot as plt\n",
    "pd.options.display.float_format = \"{:,.3f}\".format"
   ]
  },
  {
   "cell_type": "code",
   "execution_count": 2,
   "metadata": {},
   "outputs": [],
   "source": [
    "data = pd.read_csv('dataset-of-90s.csv')"
   ]
  },
  {
   "cell_type": "markdown",
   "metadata": {},
   "source": [
    "Let's choose the nominal features. From features in data we'll get time signature in the track: it ranges from 1 to 5. To create other nominal features, let's modify data about duration and tempo:"
   ]
  },
  {
   "cell_type": "code",
   "execution_count": 4,
   "metadata": {},
   "outputs": [
    {
     "data": {
      "text/plain": [
       "(array([ 896.,    0.,    0.,    0.,    0., 1157.,    0.,    0.,    0.,\n",
       "        3467.]),\n",
       " array([0. , 0.2, 0.4, 0.6, 0.8, 1. , 1.2, 1.4, 1.6, 1.8, 2. ]),\n",
       " <BarContainer object of 10 artists>)"
      ]
     },
     "execution_count": 4,
     "metadata": {},
     "output_type": "execute_result"
    },
    {
     "data": {
      "image/png": "[encoded data removed]",
      "text/plain": [
       "<Figure size 432x288 with 1 Axes>"
      ]
     },
     "metadata": {
      "needs_background": "light"
     },
     "output_type": "display_data"
    }
   ],
   "source": [
    "data['duration_s'] =data['duration_ms']/60000\n",
    "data['duration_category'] = pd.cut(data['duration_s'], bins = [-1,3,5,np.inf], labels = ['short', 'standard', 'long'])\n",
    "plt.hist(data['duration_category'])"
   ]
  },
  {
   "cell_type": "code",
   "execution_count": 5,
   "metadata": {},
   "outputs": [
    {
     "data": {
      "text/plain": [
       "Text(0.5, 0, 'Duration,minutes')"
      ]
     },
     "execution_count": 5,
     "metadata": {},
     "output_type": "execute_result"
    },
    {
     "data": {
      "image/png": "[encoded data removed]",
      "text/plain": [
       "<Figure size 432x288 with 1 Axes>"
      ]
     },
     "metadata": {
      "needs_background": "light"
     },
     "output_type": "display_data"
    }
   ],
   "source": [
    "plt.hist(data['duration_s'])\n",
    "plt.title('Duration distribution')\n",
    "plt.xlabel('Duration,minutes')"
   ]
  },
  {
   "cell_type": "code",
   "execution_count": 6,
   "metadata": {},
   "outputs": [
    {
     "data": {
      "text/plain": [
       "Text(0.5, 0, 'Tempo, BPM')"
      ]
     },
     "execution_count": 6,
     "metadata": {},
     "output_type": "execute_result"
    },
    {
     "data": {
      "image/png": "[encoded data removed]",
      "text/plain": [
       "<Figure size 432x288 with 1 Axes>"
      ]
     },
     "metadata": {
      "needs_background": "light"
     },
     "output_type": "display_data"
    }
   ],
   "source": [
    "plt.hist(data['tempo'])\n",
    "plt.title('Tempo distribution')\n",
    "plt.xlabel('Tempo, BPM')"
   ]
  },
  {
   "cell_type": "code",
   "execution_count": 7,
   "metadata": {},
   "outputs": [],
   "source": [
    "data['tempo_category'] = pd.cut(data['tempo'], bins = [0,76,108,120,156,176,np.inf], labels = [ 'adagio', 'andante', 'moderato', \n",
    "                                                                                                   'allegro', 'vivace', 'presto'])"
   ]
  },
  {
   "cell_type": "code",
   "execution_count": 8,
   "metadata": {},
   "outputs": [
    {
     "data": {
      "text/plain": [
       "4   0.912\n",
       "3   0.072\n",
       "5   0.011\n",
       "1   0.005\n",
       "Name: time_signature, dtype: float64"
      ]
     },
     "execution_count": 8,
     "metadata": {},
     "output_type": "execute_result"
    }
   ],
   "source": [
    "pd.Series(data['time_signature'].value_counts()/ 5520)"
   ]
  },
  {
   "cell_type": "code",
   "execution_count": 9,
   "metadata": {},
   "outputs": [
    {
     "data": {
      "text/plain": [
       "andante    0.377\n",
       "allegro    0.312\n",
       "moderato   0.151\n",
       "vivace     0.075\n",
       "presto     0.050\n",
       "adagio     0.035\n",
       "Name: tempo_category, dtype: float64"
      ]
     },
     "execution_count": 9,
     "metadata": {},
     "output_type": "execute_result"
    }
   ],
   "source": [
    "data['tempo_category'].value_counts()/ 5520"
   ]
  },
  {
   "cell_type": "code",
   "execution_count": 10,
   "metadata": {},
   "outputs": [
    {
     "data": {
      "text/plain": [
       "standard   0.628\n",
       "long       0.210\n",
       "short      0.162\n",
       "Name: duration_category, dtype: float64"
      ]
     },
     "execution_count": 10,
     "metadata": {},
     "output_type": "execute_result"
    }
   ],
   "source": [
    "data['duration_category'].value_counts()/ 5520"
   ]
  },
  {
   "cell_type": "code",
   "execution_count": 34,
   "metadata": {},
   "outputs": [],
   "source": [
    "def contingency_table(subset_1, subset_2):\n",
    "    \n",
    "    \"\"\"\n",
    "    An slower yet more intuitive way to create contingency table.\n",
    "    returns contingency tables of two subsets,\n",
    "    so that the last column and last row represent the\n",
    "    marginal frequencies of Tk and Gl.\n",
    "    \"\"\"\n",
    "    \n",
    "    cat_1, cat_1_idx = np.unique(subset_1, return_inverse=True)\n",
    "    cat_2, cat_2_idx = np.unique(subset_2, return_inverse=True)\n",
    "    n_cat_1 = cat_1.shape[0]\n",
    "    n_cat_2 = cat_2.shape[0]\n",
    "    contingency = np.zeros([n_cat_1+1, n_cat_2+1], dtype=np.int)\n",
    "\n",
    "    for row in range(n_cat_1):  \n",
    "        for col in range(n_cat_2): \n",
    "            n_rc = len(set(np.where(cat_1_idx==row)[0].tolist()).intersection(\n",
    "                    set(np.where(cat_2_idx==col)[0].tolist())))\n",
    "            contingency[row, col] = n_rc\n",
    "        contingency[row, -1] = np.sum(contingency[row, :])\n",
    "    \n",
    "    contingency[-1, :] = np.sum(contingency, axis=0)\n",
    "    \n",
    "    return contingency, cat_1, cat_2\n",
    "\n",
    "\n",
    "def get_conditional(contingency, cat_1, cat_2):\n",
    "    marginal_first =  contingency[-1, :-1].reshape(1,-1)\n",
    "    conditional_frequencies = np.divide(contingency[:-1,:-1], marginal_first)\n",
    "    cond_table  = pd.DataFrame( conditional_frequencies, index = cat_1, \n",
    "                               columns = cat_2)\n",
    "    return cond_table\n",
    "\n",
    "\n",
    "def get_quetelet(contingency, cat_1, cat_2):\n",
    "    marginal_first =  contingency[-1, :-1].reshape(1,-1)\n",
    "    conditional_frequencies = np.divide(contingency[:-1,:-1], marginal_first)\n",
    "    marginal_second = contingency[:-1, -1].reshape(-1, 1) / 5520\n",
    "    quetelet_index = np.subtract(np.divide(conditional_frequencies, marginal_second), 1)\n",
    "    quetelet_index_table = pd.DataFrame(quetelet_index, index = cat_1, columns = cat_2)\n",
    "    return quetelet_index_table\n",
    "\n",
    "def get_average_quetlete(contingency,cat_1, cat_2):\n",
    "    marginal_first =  contingency[-1, :-1].reshape(1,-1)\n",
    "    marginal_second = contingency[:-1, -1].reshape(-1, 1)\n",
    "    first_conditional = np.divide(contingency[:-1,:-1], marginal_first)\n",
    "    second_conditional = np.divide(contingency[:-1,:-1], marginal_second)\n",
    "    return pd.DataFrame(first_conditional * second_conditional, index = cat_1, columns = cat_2)\n",
    "\n",
    "def get_average_quetlete_2(contingency,cat_1, cat_2):\n",
    "    freq = contingency[:-1,:-1]/ contingency[-1,-1]\n",
    "    return get_quetelet(contingency, cat_1, cat_2) * freq"
   ]
  },
  {
   "cell_type": "code",
   "execution_count": 12,
   "metadata": {},
   "outputs": [],
   "source": [
    "time_tempo, cat_time, cat_tempo =contingency_table(data['time_signature'], data['tempo_category'])\n",
    "dur_time, cat_dur, cat_time = contingency_table(data['duration_category'], data['time_signature'])\n",
    "tempo_duration, cat_tempo, cat_dur = contingency_table(data['tempo_category'], data['duration_category'])"
   ]
  },
  {
   "cell_type": "code",
   "execution_count": 13,
   "metadata": {},
   "outputs": [
    {
     "data": {
      "text/html": [
       "<div>\n",
       "<style scoped>\n",
       "    .dataframe tbody tr th:only-of-type {\n",
       "        vertical-align: middle;\n",
       "    }\n",
       "\n",
       "    .dataframe tbody tr th {\n",
       "        vertical-align: top;\n",
       "    }\n",
       "\n",
       "    .dataframe thead th {\n",
       "        text-align: right;\n",
       "    }\n",
       "</style>\n",
       "<table border=\"1\" class=\"dataframe\">\n",
       "  <thead>\n",
       "    <tr style=\"text-align: right;\">\n",
       "      <th></th>\n",
       "      <th>adagio</th>\n",
       "      <th>allegro</th>\n",
       "      <th>andante</th>\n",
       "      <th>moderato</th>\n",
       "      <th>presto</th>\n",
       "      <th>vivace</th>\n",
       "    </tr>\n",
       "  </thead>\n",
       "  <tbody>\n",
       "    <tr>\n",
       "      <th>1</th>\n",
       "      <td>0.016</td>\n",
       "      <td>0.006</td>\n",
       "      <td>0.005</td>\n",
       "      <td>0.002</td>\n",
       "      <td>0.004</td>\n",
       "      <td>0.007</td>\n",
       "    </tr>\n",
       "    <tr>\n",
       "      <th>3</th>\n",
       "      <td>0.198</td>\n",
       "      <td>0.061</td>\n",
       "      <td>0.060</td>\n",
       "      <td>0.057</td>\n",
       "      <td>0.149</td>\n",
       "      <td>0.104</td>\n",
       "    </tr>\n",
       "    <tr>\n",
       "      <th>4</th>\n",
       "      <td>0.766</td>\n",
       "      <td>0.919</td>\n",
       "      <td>0.926</td>\n",
       "      <td>0.935</td>\n",
       "      <td>0.836</td>\n",
       "      <td>0.879</td>\n",
       "    </tr>\n",
       "    <tr>\n",
       "      <th>5</th>\n",
       "      <td>0.021</td>\n",
       "      <td>0.014</td>\n",
       "      <td>0.010</td>\n",
       "      <td>0.005</td>\n",
       "      <td>0.011</td>\n",
       "      <td>0.010</td>\n",
       "    </tr>\n",
       "  </tbody>\n",
       "</table>\n",
       "</div>"
      ],
      "text/plain": [
       "   adagio  allegro  andante  moderato  presto  vivace\n",
       "1   0.016    0.006    0.005     0.002   0.004   0.007\n",
       "3   0.198    0.061    0.060     0.057   0.149   0.104\n",
       "4   0.766    0.919    0.926     0.935   0.836   0.879\n",
       "5   0.021    0.014    0.010     0.005   0.011   0.010"
      ]
     },
     "execution_count": 13,
     "metadata": {},
     "output_type": "execute_result"
    }
   ],
   "source": [
    "get_conditional(time_tempo, cat_time, cat_tempo)"
   ]
  },
  {
   "cell_type": "code",
   "execution_count": 14,
   "metadata": {},
   "outputs": [
    {
     "data": {
      "text/html": [
       "<div>\n",
       "<style scoped>\n",
       "    .dataframe tbody tr th:only-of-type {\n",
       "        vertical-align: middle;\n",
       "    }\n",
       "\n",
       "    .dataframe tbody tr th {\n",
       "        vertical-align: top;\n",
       "    }\n",
       "\n",
       "    .dataframe thead th {\n",
       "        text-align: right;\n",
       "    }\n",
       "</style>\n",
       "<table border=\"1\" class=\"dataframe\">\n",
       "  <thead>\n",
       "    <tr style=\"text-align: right;\">\n",
       "      <th></th>\n",
       "      <th>adagio</th>\n",
       "      <th>allegro</th>\n",
       "      <th>andante</th>\n",
       "      <th>moderato</th>\n",
       "      <th>presto</th>\n",
       "      <th>vivace</th>\n",
       "    </tr>\n",
       "  </thead>\n",
       "  <tbody>\n",
       "    <tr>\n",
       "      <th>1</th>\n",
       "      <td>1.974</td>\n",
       "      <td>0.105</td>\n",
       "      <td>-0.086</td>\n",
       "      <td>-0.545</td>\n",
       "      <td>-0.308</td>\n",
       "      <td>0.383</td>\n",
       "    </tr>\n",
       "    <tr>\n",
       "      <th>3</th>\n",
       "      <td>1.731</td>\n",
       "      <td>-0.159</td>\n",
       "      <td>-0.171</td>\n",
       "      <td>-0.208</td>\n",
       "      <td>1.057</td>\n",
       "      <td>0.437</td>\n",
       "    </tr>\n",
       "    <tr>\n",
       "      <th>4</th>\n",
       "      <td>-0.160</td>\n",
       "      <td>0.008</td>\n",
       "      <td>0.015</td>\n",
       "      <td>0.026</td>\n",
       "      <td>-0.083</td>\n",
       "      <td>-0.036</td>\n",
       "    </tr>\n",
       "    <tr>\n",
       "      <th>5</th>\n",
       "      <td>0.949</td>\n",
       "      <td>0.304</td>\n",
       "      <td>-0.101</td>\n",
       "      <td>-0.552</td>\n",
       "      <td>0.021</td>\n",
       "      <td>-0.094</td>\n",
       "    </tr>\n",
       "  </tbody>\n",
       "</table>\n",
       "</div>"
      ],
      "text/plain": [
       "   adagio  allegro  andante  moderato  presto  vivace\n",
       "1   1.974    0.105   -0.086    -0.545  -0.308   0.383\n",
       "3   1.731   -0.159   -0.171    -0.208   1.057   0.437\n",
       "4  -0.160    0.008    0.015     0.026  -0.083  -0.036\n",
       "5   0.949    0.304   -0.101    -0.552   0.021  -0.094"
      ]
     },
     "execution_count": 14,
     "metadata": {},
     "output_type": "execute_result"
    }
   ],
   "source": [
    "get_quetelet(time_tempo,  cat_time, cat_tempo)"
   ]
  },
  {
   "cell_type": "code",
   "execution_count": 44,
   "metadata": {},
   "outputs": [
    {
     "data": {
      "image/png": "[encoded data removed]",
      "text/plain": [
       "<Figure size 432x288 with 2 Axes>"
      ]
     },
     "metadata": {
      "needs_background": "light"
     },
     "output_type": "display_data"
    }
   ],
   "source": [
    "av_q_time_tempo = get_average_quetlete_2(time_tempo, cat_time, cat_tempo)\n",
    "plt.imshow(av_q_time_tempo , cmap='hot', \n",
    "           interpolation='nearest')\n",
    "plt.colorbar()\n",
    "plt.xlabel('Tempo')\n",
    "plt.ylabel('Time Signature')\n",
    "plt.title('Average Quetlet matrix for time signature and tempo')\n",
    "plt.show()"
   ]
  },
  {
   "cell_type": "code",
   "execution_count": 37,
   "metadata": {},
   "outputs": [
    {
     "data": {
      "text/plain": [
       "0.018124298976288176"
      ]
     },
     "execution_count": 37,
     "metadata": {},
     "output_type": "execute_result"
    }
   ],
   "source": [
    "av_q_time_tempo.sum().sum()"
   ]
  },
  {
   "cell_type": "code",
   "execution_count": 16,
   "metadata": {},
   "outputs": [
    {
     "data": {
      "text/html": [
       "<div>\n",
       "<style scoped>\n",
       "    .dataframe tbody tr th:only-of-type {\n",
       "        vertical-align: middle;\n",
       "    }\n",
       "\n",
       "    .dataframe tbody tr th {\n",
       "        vertical-align: top;\n",
       "    }\n",
       "\n",
       "    .dataframe thead th {\n",
       "        text-align: right;\n",
       "    }\n",
       "</style>\n",
       "<table border=\"1\" class=\"dataframe\">\n",
       "  <thead>\n",
       "    <tr style=\"text-align: right;\">\n",
       "      <th></th>\n",
       "      <th>long</th>\n",
       "      <th>short</th>\n",
       "      <th>standard</th>\n",
       "    </tr>\n",
       "  </thead>\n",
       "  <tbody>\n",
       "    <tr>\n",
       "      <th>adagio</th>\n",
       "      <td>0.054</td>\n",
       "      <td>0.042</td>\n",
       "      <td>0.027</td>\n",
       "    </tr>\n",
       "    <tr>\n",
       "      <th>allegro</th>\n",
       "      <td>0.315</td>\n",
       "      <td>0.304</td>\n",
       "      <td>0.313</td>\n",
       "    </tr>\n",
       "    <tr>\n",
       "      <th>andante</th>\n",
       "      <td>0.358</td>\n",
       "      <td>0.339</td>\n",
       "      <td>0.393</td>\n",
       "    </tr>\n",
       "    <tr>\n",
       "      <th>moderato</th>\n",
       "      <td>0.172</td>\n",
       "      <td>0.152</td>\n",
       "      <td>0.145</td>\n",
       "    </tr>\n",
       "    <tr>\n",
       "      <th>presto</th>\n",
       "      <td>0.036</td>\n",
       "      <td>0.071</td>\n",
       "      <td>0.049</td>\n",
       "    </tr>\n",
       "    <tr>\n",
       "      <th>vivace</th>\n",
       "      <td>0.065</td>\n",
       "      <td>0.092</td>\n",
       "      <td>0.074</td>\n",
       "    </tr>\n",
       "  </tbody>\n",
       "</table>\n",
       "</div>"
      ],
      "text/plain": [
       "          long  short  standard\n",
       "adagio   0.054  0.042     0.027\n",
       "allegro  0.315  0.304     0.313\n",
       "andante  0.358  0.339     0.393\n",
       "moderato 0.172  0.152     0.145\n",
       "presto   0.036  0.071     0.049\n",
       "vivace   0.065  0.092     0.074"
      ]
     },
     "execution_count": 16,
     "metadata": {},
     "output_type": "execute_result"
    }
   ],
   "source": [
    "get_conditional(tempo_duration, cat_tempo, cat_dur)"
   ]
  },
  {
   "cell_type": "code",
   "execution_count": 46,
   "metadata": {},
   "outputs": [
    {
     "data": {
      "text/html": [
       "<div>\n",
       "<style scoped>\n",
       "    .dataframe tbody tr th:only-of-type {\n",
       "        vertical-align: middle;\n",
       "    }\n",
       "\n",
       "    .dataframe tbody tr th {\n",
       "        vertical-align: top;\n",
       "    }\n",
       "\n",
       "    .dataframe thead th {\n",
       "        text-align: right;\n",
       "    }\n",
       "</style>\n",
       "<table border=\"1\" class=\"dataframe\">\n",
       "  <thead>\n",
       "    <tr style=\"text-align: right;\">\n",
       "      <th></th>\n",
       "      <th>long</th>\n",
       "      <th>short</th>\n",
       "      <th>standard</th>\n",
       "    </tr>\n",
       "  </thead>\n",
       "  <tbody>\n",
       "    <tr>\n",
       "      <th>adagio</th>\n",
       "      <td>0.541</td>\n",
       "      <td>0.219</td>\n",
       "      <td>-0.237</td>\n",
       "    </tr>\n",
       "    <tr>\n",
       "      <th>allegro</th>\n",
       "      <td>0.011</td>\n",
       "      <td>-0.027</td>\n",
       "      <td>0.003</td>\n",
       "    </tr>\n",
       "    <tr>\n",
       "      <th>andante</th>\n",
       "      <td>-0.051</td>\n",
       "      <td>-0.100</td>\n",
       "      <td>0.043</td>\n",
       "    </tr>\n",
       "    <tr>\n",
       "      <th>moderato</th>\n",
       "      <td>0.136</td>\n",
       "      <td>0.002</td>\n",
       "      <td>-0.046</td>\n",
       "    </tr>\n",
       "    <tr>\n",
       "      <th>presto</th>\n",
       "      <td>-0.271</td>\n",
       "      <td>0.434</td>\n",
       "      <td>-0.022</td>\n",
       "    </tr>\n",
       "    <tr>\n",
       "      <th>vivace</th>\n",
       "      <td>-0.134</td>\n",
       "      <td>0.223</td>\n",
       "      <td>-0.013</td>\n",
       "    </tr>\n",
       "  </tbody>\n",
       "</table>\n",
       "</div>"
      ],
      "text/plain": [
       "           long  short  standard\n",
       "adagio    0.541  0.219    -0.237\n",
       "allegro   0.011 -0.027     0.003\n",
       "andante  -0.051 -0.100     0.043\n",
       "moderato  0.136  0.002    -0.046\n",
       "presto   -0.271  0.434    -0.022\n",
       "vivace   -0.134  0.223    -0.013"
      ]
     },
     "execution_count": 46,
     "metadata": {},
     "output_type": "execute_result"
    }
   ],
   "source": [
    "get_quetelet(tempo_duration, cat_tempo, cat_dur)"
   ]
  },
  {
   "cell_type": "code",
   "execution_count": 45,
   "metadata": {},
   "outputs": [
    {
     "data": {
      "image/png": "[encoded data removed]",
      "text/plain": [
       "<Figure size 432x288 with 2 Axes>"
      ]
     },
     "metadata": {
      "needs_background": "light"
     },
     "output_type": "display_data"
    }
   ],
   "source": [
    "av_q_time_tempo = get_average_quetlete_2(tempo_duration, cat_tempo, cat_dur)\n",
    "plt.imshow(av_q_time_tempo , cmap='hot', \n",
    "           interpolation='nearest')\n",
    "plt.xlabel('Duration')\n",
    "plt.ylabel('Tempo')\n",
    "plt.title('Average Quetlet matrix for duration and tempo')\n",
    "plt.colorbar()\n",
    "plt.show()"
   ]
  },
  {
   "cell_type": "code",
   "execution_count": 40,
   "metadata": {},
   "outputs": [
    {
     "data": {
      "text/plain": [
       "0.008925087985282909"
      ]
     },
     "execution_count": 40,
     "metadata": {},
     "output_type": "execute_result"
    }
   ],
   "source": [
    "av_q_time_tempo.sum().sum()"
   ]
  }
 ],
 "metadata": {
  "kernelspec": {
   "display_name": "Python 3",
   "language": "python",
   "name": "python3"
  },
  "language_info": {
   "codemirror_mode": {
    "name": "ipython",
    "version": 3
   },
   "file_extension": ".py",
   "mimetype": "text/x-python",
   "name": "python",
   "nbconvert_exporter": "python",
   "pygments_lexer": "ipython3",
   "version": "3.8.5"
  }
 },
 "nbformat": 4,
 "nbformat_minor": 4
}
